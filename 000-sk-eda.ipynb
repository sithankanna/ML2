{
 "cells": [
  {
   "cell_type": "markdown",
   "metadata": {},
   "source": [
    "# Simple Demand Forecasting\n",
    "\n",
    "This notebook was inspired by the \"Keeping it Simple\" Notebook by XYZT for the Kaggle competition on demand forecasting. https://www.kaggle.com/thexyzt/keeping-it-simple-by-xyzt"
   ]
  },
  {
   "cell_type": "code",
   "execution_count": 200,
   "metadata": {},
   "outputs": [],
   "source": [
    "import pandas as pd\n",
    "import numpy as np\n",
    "import os\n",
    "import matplotlib.pyplot as plt\n",
    "import datetime"
   ]
  },
  {
   "cell_type": "code",
   "execution_count": 176,
   "metadata": {},
   "outputs": [],
   "source": [
    "input_path = '../data/'\n",
    "data_train = pd.read_csv(os.path.join(input_path, 'train.csv'),  parse_dates=['date'], index_col=['date'])\n",
    "data_test = pd.read_csv(os.path.join(input_path, 'test.csv'), parse_dates=['date'], index_col=['date'])"
   ]
  },
  {
   "cell_type": "markdown",
   "metadata": {},
   "source": [
    "## Make Features"
   ]
  },
  {
   "cell_type": "code",
   "execution_count": 205,
   "metadata": {},
   "outputs": [],
   "source": [
    "def get_date_related_features(df):\n",
    "    \"\"\"\n",
    "    Returns a DataFrame with date related features from df.\n",
    "    Index column of input df needs to be a timestamp index in the format *'YYYY-MM-DD'*\n",
    "    Calendar information include date, time, dayofweek, dayofmonth, dayofyear, weekofyear, month, year. \n",
    "    \n",
    "    Args:\n",
    "        df (DataFrame):  With a timestamp index in the format *'YYYY-MM-DD'*\n",
    "\n",
    "    Returns:\n",
    "        df: DataFrame with date related columns\n",
    "    \"\"\"\n",
    "    df = (df\n",
    "          .assign(date=df.index.date)\n",
    "          .assign(dayofweek=df.index.dayofweek)\n",
    "          .assign(dayofmonth=df.index.day)\n",
    "          .assign(dayofyear=df.index.dayofyear)\n",
    "          .assign(weekofyear=df.index.weekofyear)\n",
    "          .assign(month=df.index.month)\n",
    "          .assign(year=df.index.year)\n",
    "          )\n",
    "    return df\n",
    "\n",
    "\n",
    "def output_csv(df_test, pred_col='pred_year'):\n",
    "    today = datetime.datetime.today().strftime('%Y-%m-%d')\n",
    "    (df_test[['id', pred_col]]\n",
    "        .rename(columns={pred_col: 'sales'})\n",
    "        .to_csv(\"submission_{}.csv\".format(today), index=False)\n",
    "    )\n",
    "    return "
   ]
  },
  {
   "cell_type": "code",
   "execution_count": 177,
   "metadata": {},
   "outputs": [],
   "source": [
    "df_train = get_date_related_features(data_train)\n",
    "df_test = get_date_related_features(data_test)"
   ]
  },
  {
   "cell_type": "markdown",
   "metadata": {},
   "source": [
    "## Make Naive Predictors"
   ]
  },
  {
   "cell_type": "code",
   "execution_count": 181,
   "metadata": {},
   "outputs": [],
   "source": [
    "def naive_predictor(df_train, df_test):\n",
    "    groupby_columns = ['store', 'item', 'month', 'dayofmonth']\n",
    "    \n",
    "    df_naive = (df_train.groupby(groupby_columns)\n",
    "                 .agg({'sales': 'mean'})\n",
    "                 .rename(columns={'sales': 'pred'})\n",
    "                 .reset_index()\n",
    "               )\n",
    "    \n",
    "    df_train = df_train.merge(df_naive, \n",
    "                              left_on=groupby_columns, \n",
    "                              right_on=groupby_columns, \n",
    "                              how=\"left\")\n",
    "    \n",
    "    df_test = df_test.merge(df_naive, \n",
    "                          left_on=groupby_columns, \n",
    "                          right_on=groupby_columns, \n",
    "                          how=\"left\")\n",
    "\n",
    "    df_train = df_train.sort_values(by=['store','item', 'date']).round()\n",
    "    df_test = df_test.sort_values(by=['store','item', 'date']).round()\n",
    "\n",
    "    return df_train, df_test"
   ]
  },
  {
   "cell_type": "code",
   "execution_count": 188,
   "metadata": {},
   "outputs": [],
   "source": [
    "df_train_1, df_test_1 = naive_predictor(df_train, df_test)"
   ]
  },
  {
   "cell_type": "markdown",
   "metadata": {},
   "source": [
    "## Naive Predictor 2"
   ]
  },
  {
   "cell_type": "code",
   "execution_count": 197,
   "metadata": {},
   "outputs": [],
   "source": [
    "def naive_predictor_2(df_train, df_test):\n",
    "    ## Find baseline estimate\n",
    "    df_train, df_test = make_baseline(df_train, df_test)\n",
    "    ## Find day of week and month scaling factors \n",
    "    df_train, df_test = make_calendar_adjustments(df_train, df_test)\n",
    "    \n",
    "    df_train = df_train.sort_values(by=['store','item', 'date']).round()\n",
    "    df_test = df_test.sort_values(by=['store','item', 'date']).round()\n",
    "    return df_train, df_test\n",
    "\n",
    "\n",
    "def make_baseline(df_train, df_test):\n",
    "    groupby_cols = ['store', 'item']\n",
    "    store_item_table = (df_train.groupby(groupby_cols)\n",
    "                                .agg({'sales': 'mean'})\n",
    "                                .reset_index()\n",
    "                                .rename(columns={'sales': 'baseline'})\n",
    "                       )\n",
    "    df_train = df_train.merge(store_item_table, left_on=groupby_cols, right_on=groupby_cols, how='left')\n",
    "    df_test = df_test.merge(store_item_table, left_on=groupby_cols, right_on=groupby_cols, how='left')\n",
    "    return df_train, df_test\n",
    "\n",
    "\n",
    "def find_calendar_index(df, calendar):\n",
    "    calendar_index = pd.pivot_table(df, index=calendar, values='sales', aggfunc=np.mean)\n",
    "    calendar_index /= df['sales'].mean()\n",
    "    return calendar_index.rename(columns={'sales': calendar+'_index'})\n",
    "\n",
    "\n",
    "def make_calendar_adjustments(df_train, df_test):\n",
    "    pred_col = 'baseline'\n",
    "    for calendar in ['month', 'dayofweek', 'year']:\n",
    "        if calendar in  ['month', 'dayofweek']:\n",
    "            calendar_index = find_calendar_index(df_train, calendar)\n",
    "        else:\n",
    "            calendar_index = extrapolate_annual_growth(df_train)\n",
    "        \n",
    "        df_train = df_train.merge(calendar_index, left_on=calendar, right_on=calendar)\n",
    "        df_train.loc[:, calendar+'_index'] = df_train.loc[:, calendar+'_index'].fillna(1.0)\n",
    "        df_train = df_train.assign(pred=df_train[pred_col]*df_train[calendar+'_index'])\\\n",
    "                    .rename(columns={'pred': 'pred_'+calendar})\n",
    "        \n",
    "        df_test = df_test.merge(calendar_index, left_on=calendar, right_on=calendar)\n",
    "        df_test.loc[:, calendar+'_index'] = df_test.loc[:, calendar+'_index'].fillna(1.0)\n",
    "        df_test = df_test.assign(pred=df_test[pred_col]*df_test[calendar+'_index'])\\\n",
    "                    .rename(columns={'pred': 'pred_'+calendar})\n",
    "\n",
    "        pred_col = 'pred_'+calendar\n",
    "\n",
    "    return df_train, df_test\n",
    "\n",
    "\n",
    "def extrapolate_annual_growth(df_train):\n",
    "    fcst_horizons_year = 1\n",
    "    calendar_index = find_calendar_index(df_train, 'year')\n",
    "    # Find polynomial coefficients\n",
    "    coeffs = np.polyfit(x=calendar_index.index.values.squeeze(), y=calendar_index.values.squeeze(), deg=2)\n",
    "    p2 = np.poly1d(coeffs)\n",
    "    years = np.arange(calendar_index.index.min(), calendar_index.index.max() + fcst_horizons_year + 1)\n",
    "    calendar_index = pd.DataFrame({'year': years, calendar_index.columns.values[0]: p2(years)})\n",
    "    return calendar_index"
   ]
  },
  {
   "cell_type": "code",
   "execution_count": 206,
   "metadata": {},
   "outputs": [],
   "source": [
    "df_train_2, df_test_2 = naive_predictor_2(df_train, df_test)"
   ]
  },
  {
   "cell_type": "code",
   "execution_count": 207,
   "metadata": {},
   "outputs": [],
   "source": [
    "output_csv(df_test_2)"
   ]
  },
  {
   "cell_type": "code",
   "execution_count": null,
   "metadata": {},
   "outputs": [],
   "source": []
  },
  {
   "cell_type": "code",
   "execution_count": null,
   "metadata": {},
   "outputs": [],
   "source": []
  }
 ],
 "metadata": {
  "kernelspec": {
   "display_name": "Python 3",
   "language": "python",
   "name": "python3"
  },
  "language_info": {
   "codemirror_mode": {
    "name": "ipython",
    "version": 3
   },
   "file_extension": ".py",
   "mimetype": "text/x-python",
   "name": "python",
   "nbconvert_exporter": "python",
   "pygments_lexer": "ipython3",
   "version": "3.6.8"
  }
 },
 "nbformat": 4,
 "nbformat_minor": 2
}
