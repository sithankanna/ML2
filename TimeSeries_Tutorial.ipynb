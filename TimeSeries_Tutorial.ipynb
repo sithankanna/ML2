{
 "cells": [
  {
   "cell_type": "markdown",
   "metadata": {},
   "source": [
    "# Time Series Forecasting \n",
    "## Part 1: Getting Started with ML models"
   ]
  },
  {
   "cell_type": "code",
   "execution_count": 3,
   "metadata": {},
   "outputs": [],
   "source": [
    "# import relevant panckages \n",
    "import pandas as pd\n",
    "import numpy as np\n",
    "\n",
    "# Financial data time-series\n",
    "import quandl\n",
    "\n",
    "# Plotting parameters\n",
    "import matplotlib.pyplot as plt\n",
    "plt.rcParams[\"figure.figsize\"] = (16,6)"
   ]
  },
  {
   "cell_type": "code",
   "execution_count": null,
   "metadata": {},
   "outputs": [],
   "source": []
  },
  {
   "cell_type": "markdown",
   "metadata": {},
   "source": [
    "## (Down)Load Time Series Data \n",
    "\n",
    "If you do not have the time series, download it. Else just load it from the `data/` directory. "
   ]
  },
  {
   "cell_type": "code",
   "execution_count": null,
   "metadata": {
    "collapsed": true
   },
   "outputs": [],
   "source": [
    "## ----- First Time Download of Data ----------- ##\n",
    "tickers = [\"AAPL\", \"MSFT\", \"GOOG\", \"AMZN\", \"GM\", \"GE\"]\n",
    "series = \"Close\"\n",
    "# Available options: Open, High, Low, Close, Volume, Adj. Open, Adj. High, Adj. Low, Adj. Close, Adj. Volume\n",
    "\n",
    "df_price = pd.DataFrame() \n",
    "\n",
    "for stck in tickers:\n",
    "    data = quandl.Dataset(\"WIKI/{}\".format(stck))\\\n",
    "                 .data(params={\"start_date\":\"2002-01-01\", \"end_date\":\"2018-07-01\"})\\\n",
    "                 .to_pandas()[[series]]\\\n",
    "                 .rename(columns={series:stck})\n",
    "    df_price = pd.concat([df_price, data], axis=1)\n",
    "\n",
    "# Make sure there are no dates without closing prices    \n",
    "df_price = df_price.dropna()\n",
    "\n",
    "#  Save data \n",
    "df_price.to_pickle(\"data/df_price.pickle\")\n",
    "\n",
    "\n"
   ]
  },
  {
   "cell_type": "code",
   "execution_count": 4,
   "metadata": {},
   "outputs": [
    {
     "data": {
      "text/html": [
       "<div>\n",
       "<style scoped>\n",
       "    .dataframe tbody tr th:only-of-type {\n",
       "        vertical-align: middle;\n",
       "    }\n",
       "\n",
       "    .dataframe tbody tr th {\n",
       "        vertical-align: top;\n",
       "    }\n",
       "\n",
       "    .dataframe thead th {\n",
       "        text-align: right;\n",
       "    }\n",
       "</style>\n",
       "<table border=\"1\" class=\"dataframe\">\n",
       "  <thead>\n",
       "    <tr style=\"text-align: right;\">\n",
       "      <th></th>\n",
       "      <th>AAPL</th>\n",
       "      <th>MSFT</th>\n",
       "      <th>GOOG</th>\n",
       "      <th>AMZN</th>\n",
       "      <th>GM</th>\n",
       "      <th>GE</th>\n",
       "    </tr>\n",
       "    <tr>\n",
       "      <th>Date</th>\n",
       "      <th></th>\n",
       "      <th></th>\n",
       "      <th></th>\n",
       "      <th></th>\n",
       "      <th></th>\n",
       "      <th></th>\n",
       "    </tr>\n",
       "  </thead>\n",
       "  <tbody>\n",
       "    <tr>\n",
       "      <th>2014-03-27</th>\n",
       "      <td>537.46</td>\n",
       "      <td>39.36</td>\n",
       "      <td>558.46</td>\n",
       "      <td>338.470</td>\n",
       "      <td>34.51</td>\n",
       "      <td>25.81</td>\n",
       "    </tr>\n",
       "    <tr>\n",
       "      <th>2014-03-28</th>\n",
       "      <td>536.86</td>\n",
       "      <td>40.30</td>\n",
       "      <td>559.99</td>\n",
       "      <td>338.290</td>\n",
       "      <td>34.73</td>\n",
       "      <td>25.88</td>\n",
       "    </tr>\n",
       "    <tr>\n",
       "      <th>2014-03-31</th>\n",
       "      <td>536.74</td>\n",
       "      <td>40.99</td>\n",
       "      <td>556.97</td>\n",
       "      <td>336.365</td>\n",
       "      <td>34.42</td>\n",
       "      <td>25.89</td>\n",
       "    </tr>\n",
       "    <tr>\n",
       "      <th>2014-04-01</th>\n",
       "      <td>541.65</td>\n",
       "      <td>41.42</td>\n",
       "      <td>567.16</td>\n",
       "      <td>342.990</td>\n",
       "      <td>34.34</td>\n",
       "      <td>25.87</td>\n",
       "    </tr>\n",
       "    <tr>\n",
       "      <th>2014-04-02</th>\n",
       "      <td>542.55</td>\n",
       "      <td>41.35</td>\n",
       "      <td>567.00</td>\n",
       "      <td>341.960</td>\n",
       "      <td>34.88</td>\n",
       "      <td>26.04</td>\n",
       "    </tr>\n",
       "  </tbody>\n",
       "</table>\n",
       "</div>"
      ],
      "text/plain": [
       "              AAPL   MSFT    GOOG     AMZN     GM     GE\n",
       "Date                                                    \n",
       "2014-03-27  537.46  39.36  558.46  338.470  34.51  25.81\n",
       "2014-03-28  536.86  40.30  559.99  338.290  34.73  25.88\n",
       "2014-03-31  536.74  40.99  556.97  336.365  34.42  25.89\n",
       "2014-04-01  541.65  41.42  567.16  342.990  34.34  25.87\n",
       "2014-04-02  542.55  41.35  567.00  341.960  34.88  26.04"
      ]
     },
     "execution_count": 4,
     "metadata": {},
     "output_type": "execute_result"
    }
   ],
   "source": [
    "## ----- Alternative: Load data from Memory ----------- ##\n",
    "df_price = pd.read_pickle(\"data/df_price.pickle\")\n",
    "df_price.head()"
   ]
  },
  {
   "cell_type": "code",
   "execution_count": null,
   "metadata": {},
   "outputs": [],
   "source": [
    "# Visualise Data \n",
    "df_price.plot(title=\"Daily closing prices\")\n",
    "plt.show()\n",
    "\n",
    "df_price.diff().plot(title=\"Daily returns\")\n",
    "plt.show()"
   ]
  },
  {
   "cell_type": "markdown",
   "metadata": {},
   "source": [
    "## Reorganise Data\n",
    "### Create Label-Feature Pairs"
   ]
  },
  {
   "cell_type": "code",
   "execution_count": null,
   "metadata": {},
   "outputs": [],
   "source": [
    "look_ahead = 3 # days\n",
    "window = 2 # days \n",
    "n = len(df_price)\n",
    "\n",
    "# create label-feature-pairs \n",
    "label_feature_pair = []\n",
    "for stck in df_price:\n",
    "    timeseries = df_price[stck]\n",
    "    \n",
    "    for i in range(n - look_ahead - window+1):\n",
    "       \n",
    "        t = (timeseries.index[i+window+look_ahead-1], ) # date \n",
    "        \n",
    "        y_t = (timeseries.iloc[i+window+look_ahead-1], ) # target price\n",
    "        X_t = tuple(timeseries.iloc[i:i+window])[::-1] # list of features (i.e. previous prices)\n",
    "        \n",
    "        label_feature_pair.append(t + (stck,)+  y_t + X_t)"
   ]
  },
  {
   "cell_type": "code",
   "execution_count": null,
   "metadata": {
    "collapsed": true
   },
   "outputs": [],
   "source": [
    "## Transform into a DataFrame"
   ]
  },
  {
   "cell_type": "code",
   "execution_count": null,
   "metadata": {},
   "outputs": [],
   "source": [
    "lagged_cols = ['t-{}'.format(i) for i in range(look_ahead, look_ahead + window)]\n",
    "\n",
    "data = pd.DataFrame.from_records(label_feature_pair, \n",
    "                                 columns=['date', 'stock', 'target'] + lagged_cols, \n",
    "                                 index='date')\n"
   ]
  },
  {
   "cell_type": "code",
   "execution_count": null,
   "metadata": {},
   "outputs": [],
   "source": [
    "data.head()"
   ]
  },
  {
   "cell_type": "code",
   "execution_count": null,
   "metadata": {},
   "outputs": [],
   "source": []
  },
  {
   "cell_type": "markdown",
   "metadata": {},
   "source": [
    "## Fit Machine Learning  Models"
   ]
  },
  {
   "cell_type": "code",
   "execution_count": null,
   "metadata": {},
   "outputs": [],
   "source": [
    "from sklearn.model_selection import GroupShuffleSplit\n",
    "from sklearn.linear_model import ElasticNet\n",
    "from sklearn.ensemble import GradientBoostingRegressor, RandomForestRegressor"
   ]
  },
  {
   "cell_type": "markdown",
   "metadata": {},
   "source": [
    "### Split data into Training and Testing sets "
   ]
  },
  {
   "cell_type": "code",
   "execution_count": null,
   "metadata": {},
   "outputs": [],
   "source": [
    "# Get indices for training and evalutaion sets\n",
    "train_set, test_set = next(GroupShuffleSplit(n_splits=1, test_size=0.1)\\\n",
    "                                         .split(data, groups=data['stock']))\n",
    "\n",
    "features =[i for i in data.columns if i not in {'target'}]\n",
    "label = ['target', 'stock']\n",
    "\n",
    "y_train, X_train = data.iloc[train_set][label], data.iloc[train_set][features]\n",
    "y_test, X_test = data.iloc[test_set][label], data.iloc[test_set][features]\n"
   ]
  },
  {
   "cell_type": "code",
   "execution_count": null,
   "metadata": {},
   "outputs": [],
   "source": []
  },
  {
   "cell_type": "markdown",
   "metadata": {},
   "source": [
    "### Fit machine learning models"
   ]
  },
  {
   "cell_type": "code",
   "execution_count": null,
   "metadata": {},
   "outputs": [],
   "source": [
    "# Elastic Net\n",
    "model_enet = ElasticNet(fit_intercept=False)\n",
    "model_enet.fit(X_train.iloc[:, 1:], y_train.iloc[:, 0:1])\n",
    "\n",
    "# # Gradient Boosting\n",
    "model_gbr = GradientBoostingRegressor()\n",
    "model_gbr.fit(X_train.iloc[:, 1:], y_train['target'])\n",
    "\n",
    "# # Random Forests\n",
    "model_rnd_frst = RandomForestRegressor()\n",
    "model_rnd_frst.fit(X_train.iloc[:, 1:], y_train['target'])"
   ]
  },
  {
   "cell_type": "markdown",
   "metadata": {},
   "source": [
    "### Assess Test set performance"
   ]
  },
  {
   "cell_type": "code",
   "execution_count": null,
   "metadata": {
    "collapsed": true
   },
   "outputs": [],
   "source": [
    "for stck in set(X_test['stock']):\n",
    "    \n",
    "    feats = X_test.query(\"stock == '{}'\".format(stck)).iloc[:, 1:]\n",
    "    labels = y_test.query(\"stock == '{}'\".format(stck))[['target']]\n",
    "    \n",
    "    plot_y =  pd.DataFrame({'ElasticNet': model_enet.predict(feats),\n",
    "                           'RandomForest': model_rnd_frst.predict(feats)},  \n",
    "                           index=feats.index)\\\n",
    "               .join(labels) \n",
    "    \n",
    "    plot_y.plot(title=stck)\n",
    "#     plt.xlim(['2017-06-01', '2018-03-01'])\n",
    "    plt.show()\n"
   ]
  },
  {
   "cell_type": "code",
   "execution_count": null,
   "metadata": {},
   "outputs": [],
   "source": [
    "from sklearn.metrics import r2_score"
   ]
  },
  {
   "cell_type": "code",
   "execution_count": null,
   "metadata": {},
   "outputs": [],
   "source": [
    "for model in plot_y:\n",
    "    print(model, r2_score(y_pred=plot_y[model], y_true=plot_y['target']))"
   ]
  },
  {
   "cell_type": "code",
   "execution_count": 6,
   "metadata": {},
   "outputs": [],
   "source": [
    "# Temp plotting"
   ]
  },
  {
   "cell_type": "code",
   "execution_count": 29,
   "metadata": {},
   "outputs": [],
   "source": [
    "df_price.resample('MS').mean().rolling(5).mean().to_csv('../../6_Confectionary_BD/sample_time_series.csv')\n",
    "# plt.show()"
   ]
  },
  {
   "cell_type": "code",
   "execution_count": null,
   "metadata": {},
   "outputs": [],
   "source": []
  }
 ],
 "metadata": {
  "kernelspec": {
   "display_name": "Python 3",
   "language": "python",
   "name": "python3"
  },
  "language_info": {
   "codemirror_mode": {
    "name": "ipython",
    "version": 3
   },
   "file_extension": ".py",
   "mimetype": "text/x-python",
   "name": "python",
   "nbconvert_exporter": "python",
   "pygments_lexer": "ipython3",
   "version": "3.6.1"
  }
 },
 "nbformat": 4,
 "nbformat_minor": 2
}
