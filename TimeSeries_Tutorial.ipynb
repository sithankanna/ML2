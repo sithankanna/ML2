{
 "cells": [
  {
   "cell_type": "markdown",
   "metadata": {},
   "source": [
    "# Time Series Forecasting Tutorial\n",
    "### by Sithan Kanna\n",
    "\n",
    "This is a sample tutorial. "
   ]
  },
  {
   "cell_type": "code",
   "execution_count": 21,
   "metadata": {},
   "outputs": [],
   "source": [
    "# import relevant panckages \n",
    "import pandas as pd\n",
    "import numpy as np\n",
    "\n",
    "# Financial data time-series\n",
    "import quandl\n",
    "\n",
    "# Plotting parameters\n",
    "import matplotlib.pyplot as plt\n",
    "plt.rcParams[\"figure.figsize\"] = (16,3)"
   ]
  },
  {
   "cell_type": "code",
   "execution_count": null,
   "metadata": {},
   "outputs": [],
   "source": []
  },
  {
   "cell_type": "markdown",
   "metadata": {},
   "source": [
    "## (Down)load Time Series Data \n",
    "\n",
    "If you do not have the time series, download it. Else just load it from the `data/` directory. "
   ]
  },
  {
   "cell_type": "code",
   "execution_count": null,
   "metadata": {
    "collapsed": true
   },
   "outputs": [],
   "source": [
    "## ----- First Time Download of Data ----------- ##\n",
    "tickers = ['AAPL', 'MSFT', 'GOOG', 'AMZN', 'GM', 'GE']\n",
    "series = 'Close'\n",
    "# Available options: Open, High, Low, Close, Volume, Adj. Open, Adj. High, Adj. Low, Adj. Close, Adj. Volume\n",
    "\n",
    "df_price = pd.DataFrame() \n",
    "\n",
    "for stck in tickers:\n",
    "    data = quandl.Dataset('WIKI/{}'.format(stck))\\\n",
    "                 .data(params={'start_date':'2002-01-01', 'end_date':'2018-07-01'})\\\n",
    "                 .to_pandas()[[series]]\\\n",
    "                 .rename(columns={series:stck})\n",
    "    df_price = pd.concat([df_price, data], axis=1)\n",
    "\n",
    "# Make sure there are no dates without closing prices    \n",
    "df_price = df_price.dropna()\n",
    "\n",
    "#  Save data \n",
    "df_price.to_pickle('data/df_price.pickle')\n",
    "\n",
    "\n",
    "## ----- Alternative: Load data from Memory ----------- ##\n",
    "df_price = pd.read_pickle('data/df_price.pickle')"
   ]
  },
  {
   "cell_type": "code",
   "execution_count": 29,
   "metadata": {
    "collapsed": true
   },
   "outputs": [],
   "source": [
    "## Load Time Series \n",
    "\n"
   ]
  },
  {
   "cell_type": "markdown",
   "metadata": {},
   "source": [
    "## Reorganise Data  "
   ]
  },
  {
   "cell_type": "code",
   "execution_count": 30,
   "metadata": {},
   "outputs": [],
   "source": []
  },
  {
   "cell_type": "code",
   "execution_count": null,
   "metadata": {},
   "outputs": [],
   "source": []
  },
  {
   "cell_type": "markdown",
   "metadata": {},
   "source": [
    "## Create Advanced Feature Vectors "
   ]
  }
 ],
 "metadata": {
  "kernelspec": {
   "display_name": "Python 3",
   "language": "python",
   "name": "python3"
  },
  "language_info": {
   "codemirror_mode": {
    "name": "ipython",
    "version": 3
   },
   "file_extension": ".py",
   "mimetype": "text/x-python",
   "name": "python",
   "nbconvert_exporter": "python",
   "pygments_lexer": "ipython3",
   "version": "3.6.1"
  }
 },
 "nbformat": 4,
 "nbformat_minor": 2
}
