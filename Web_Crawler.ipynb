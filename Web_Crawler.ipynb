{
 "cells": [
  {
   "cell_type": "code",
   "execution_count": 1,
   "metadata": {
    "collapsed": true
   },
   "outputs": [],
   "source": [
    "import pandas as pd\n",
    "import numpy as np\n",
    "import pickle\n",
    "import glob\n",
    "import matplotlib.pyplot as plt \n",
    "import urllib.request\n",
    "import io\n",
    "import time\n",
    "import urllib\n",
    "import os\n",
    "import re"
   ]
  },
  {
   "cell_type": "code",
   "execution_count": 4,
   "metadata": {
    "collapsed": true
   },
   "outputs": [],
   "source": [
    "def find_twitter_profile(userid):\n",
    "    link = \"https://www.twitter.com/{}/\".format(userid)\n",
    "    u = urllib.request.urlopen(link, data = None)\n",
    "    #f = io.TextIOWrapper(u,encoding='utf8')\n",
    "    #text = f.read()\n",
    "    return u.geturl()\n",
    "    \n",
    "def check_if_private(ig_page):\n",
    "    is_private = '\"is_private\":true' in ig_page\n",
    "    if is_private:\n",
    "        return 'Private Profile'\n",
    "    else:\n",
    "        return 'Public Profile'"
   ]
  },
  {
   "cell_type": "code",
   "execution_count": 2,
   "metadata": {
    "collapsed": true
   },
   "outputs": [],
   "source": [
    "users = []\n",
    "valid_url_count = 0 \n",
    "\n",
    "list_accounts = ['hmason',\n",
    "                'johnmyleswhite', \n",
    "                'kaggle', \n",
    "                'peteskomoroch', \n",
    "                'DataJunkie', \n",
    "                'dpatil', \n",
    "                'bigdata', \n",
    "                'ogrisel',\n",
    "                'kdnuggets',\n",
    "                'revodavid']"
   ]
  },
  {
   "cell_type": "code",
   "execution_count": 5,
   "metadata": {},
   "outputs": [],
   "source": [
    "for user_id in list_accounts:\n",
    "    if valid_url_count <= 40: \n",
    "        try:\n",
    "            users.append((user_id, find_twitter_profile(user_id)))\n",
    "            valid_url_count += 1\n",
    "        except Exception as e:\n",
    "            users.append((user_id, str(e), influencer_group))\n",
    "            if '404' not in e:\n",
    "                print(e)\n",
    "        #time.sleep(1.0)    # pause 2.5 seconds\n",
    "    else:\n",
    "        break\n"
   ]
  },
  {
   "cell_type": "code",
   "execution_count": 6,
   "metadata": {},
   "outputs": [
    {
     "data": {
      "text/plain": [
       "[('hmason', 'https://twitter.com/hmason/'),\n",
       " ('johnmyleswhite', 'https://twitter.com/johnmyleswhite/'),\n",
       " ('kaggle', 'https://twitter.com/kaggle/'),\n",
       " ('peteskomoroch', 'https://twitter.com/peteskomoroch/'),\n",
       " ('DataJunkie', 'https://twitter.com/DataJunkie/'),\n",
       " ('dpatil', 'https://twitter.com/dpatil/'),\n",
       " ('bigdata', 'https://twitter.com/bigdata/'),\n",
       " ('ogrisel', 'https://twitter.com/ogrisel/'),\n",
       " ('kdnuggets', 'https://twitter.com/kdnuggets/'),\n",
       " ('revodavid', 'https://twitter.com/revodavid/')]"
      ]
     },
     "execution_count": 6,
     "metadata": {},
     "output_type": "execute_result"
    }
   ],
   "source": [
    "users"
   ]
  }
 ],
 "metadata": {
  "kernelspec": {
   "display_name": "Python 3",
   "language": "python",
   "name": "python3"
  },
  "language_info": {
   "codemirror_mode": {
    "name": "ipython",
    "version": 3
   },
   "file_extension": ".py",
   "mimetype": "text/x-python",
   "name": "python",
   "nbconvert_exporter": "python",
   "pygments_lexer": "ipython3",
   "version": "3.6.1"
  }
 },
 "nbformat": 4,
 "nbformat_minor": 2
}
